{
  "cells": [
    {
      "cell_type": "markdown",
      "metadata": {
        "id": "view-in-github",
        "colab_type": "text"
      },
      "source": [
        "<a href=\"https://colab.research.google.com/github/ibtisam051/python/blob/main/PenniesConversion.ipynb\" target=\"_parent\"><img src=\"https://colab.research.google.com/assets/colab-badge.svg\" alt=\"Open In Colab\"/></a>"
      ]
    },
    {
      "cell_type": "markdown",
      "id": "2997d790",
      "metadata": {
        "id": "2997d790"
      },
      "source": [
        "## Conversion of Pennies"
      ]
    },
    {
      "cell_type": "code",
      "execution_count": null,
      "id": "7de491c2",
      "metadata": {
        "id": "7de491c2"
      },
      "outputs": [],
      "source": [
        "dollar=0\n",
        "quarters=0\n",
        "dimes=0\n",
        "nickels=0\n",
        "penies_leftOver=0\n",
        "\n",
        "penies=int(input(\"Enter the total penies : \"))\n",
        "\n",
        "dollar=penies//100\n",
        "\n",
        "quarters=penies-(dollar*100)\n",
        "quarters=quarters//25\n",
        "\n",
        "dimes=penies-(quarters*25)\n",
        "dimes=dimes-(dollar*100)\n",
        "dimes=dimes//10\n",
        "\n",
        "nickels=penies-(dimes*10)\n",
        "nickels=nickels-(dollar*100)\n",
        "nickels=nickels-(quarters*25)\n",
        "nickels=nickels//5\n",
        "\n",
        "penies_leftOver=penies-(nickels*5)\n",
        "penies_leftOver=penies_leftOver-(dollar*100)\n",
        "penies_leftOver=penies_leftOver-(quarters*25)\n",
        "penies_leftOver=penies_leftOver-(nickels*10)    \n",
        "\n",
        "print(\"Dollar \\t\\t\",dollar)\n",
        "print(\"Quarters \\t\",quarters)\n",
        "print(\"Dimes \\t\\t\",dimes)\n",
        "print(\"Nickels \\t\",nickels)\n",
        "print(\"Penies left \\t\",penies_leftOver)\n"
      ]
    }
  ],
  "metadata": {
    "kernelspec": {
      "display_name": "Python 3",
      "language": "python",
      "name": "python3"
    },
    "language_info": {
      "codemirror_mode": {
        "name": "ipython",
        "version": 3
      },
      "file_extension": ".py",
      "mimetype": "text/x-python",
      "name": "python",
      "nbconvert_exporter": "python",
      "pygments_lexer": "ipython3",
      "version": "3.8.8"
    },
    "colab": {
      "name": "PenniesConversion.ipynb",
      "provenance": [],
      "include_colab_link": true
    }
  },
  "nbformat": 4,
  "nbformat_minor": 5
}