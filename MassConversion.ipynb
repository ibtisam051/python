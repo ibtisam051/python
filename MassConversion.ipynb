{
  "cells": [
    {
      "cell_type": "markdown",
      "metadata": {
        "id": "view-in-github",
        "colab_type": "text"
      },
      "source": [
        "<a href=\"https://colab.research.google.com/github/ibtisam051/python/blob/main/MassConversion.ipynb\" target=\"_parent\"><img src=\"https://colab.research.google.com/assets/colab-badge.svg\" alt=\"Open In Colab\"/></a>"
      ]
    },
    {
      "cell_type": "markdown",
      "id": "80eb4da1",
      "metadata": {
        "id": "80eb4da1"
      },
      "source": [
        "## Pound and Ounce into Kilogram"
      ]
    },
    {
      "cell_type": "code",
      "execution_count": null,
      "id": "5b982845",
      "metadata": {
        "id": "5b982845"
      },
      "outputs": [],
      "source": [
        "while True:\n",
        "    pounds=int(input(\"Enter the integer number of pounds (<0 to quit): \"))#to end this code you have to enter a negative value\n",
        "    if pounds<0:\n",
        "        print(\"End!!\")\n",
        "        break\n",
        "    else:\n",
        "        ounce=float(input(\"Enter the number of ounces as a real number: \"))\n",
        "        pound=ounce*0.0625\n",
        "        sum_pound=pound+pounds\n",
        "        kg=sum_pound*0.453592\n",
        "        print(\"The number of kilograms for\",pounds ,\"pounds and\",ounce ,\"ounce is\" ,kg)\n",
        "    "
      ]
    }
  ],
  "metadata": {
    "kernelspec": {
      "display_name": "Python 3",
      "language": "python",
      "name": "python3"
    },
    "language_info": {
      "codemirror_mode": {
        "name": "ipython",
        "version": 3
      },
      "file_extension": ".py",
      "mimetype": "text/x-python",
      "name": "python",
      "nbconvert_exporter": "python",
      "pygments_lexer": "ipython3",
      "version": "3.8.8"
    },
    "colab": {
      "name": "MassConversion.ipynb",
      "provenance": [],
      "include_colab_link": true
    }
  },
  "nbformat": 4,
  "nbformat_minor": 5
}